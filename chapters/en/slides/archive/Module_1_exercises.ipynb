{
 "cells": [
  {
   "cell_type": "markdown",
   "metadata": {},
   "source": [
    "## Exercise practice and Tests "
   ]
  },
  {
   "cell_type": "code",
   "execution_count": 335,
   "metadata": {},
   "outputs": [],
   "source": [
    "import  matplotlib.pyplot as plt"
   ]
  },
  {
   "cell_type": "code",
   "execution_count": 299,
   "metadata": {},
   "outputs": [
    {
     "data": {
      "text/plain": [
       "'3.1.0'"
      ]
     },
     "execution_count": 299,
     "metadata": {},
     "output_type": "execute_result"
    }
   ],
   "source": [
    "matplotlib.__version__"
   ]
  },
  {
   "cell_type": "code",
   "execution_count": 337,
   "metadata": {},
   "outputs": [
    {
     "data": {
      "image/png": "[encoded data removed]",
      "text/plain": [
       "<Figure size 432x288 with 1 Axes>"
      ]
     },
     "metadata": {
      "needs_background": "light"
     },
     "output_type": "display_data"
    }
   ],
   "source": [
    "import pandas as pd\n",
    "\n",
    "# The database \n",
    "\n",
    "hockey_players = pd.read_csv('../data/canucks.csv', index_col=0)\n",
    "\n",
    "\n",
    "# Plots x as `Age` and y as `Salary`. using a scatterplot \n",
    "# Set color to `Darkblue`, opacity to 0.4 and don't forget to assign a title as \"Canuck players Age vs. Salary\" \n",
    "\n",
    "age_salary_scatter = hockey_players.plot.scatter(x = \"Age\",\n",
    "                                                 y = \"Salary\", \n",
    "                                                 alpha = 0.2, \n",
    "                                                 color = \"Darkblue\",\n",
    "                                                 title = \"Canuck players Age vs. Salary\")\n"
   ]
  },
  {
   "cell_type": "code",
   "execution_count": null,
   "metadata": {},
   "outputs": [],
   "source": [
    " assert "
   ]
  },
  {
   "cell_type": "code",
   "execution_count": 311,
   "metadata": {},
   "outputs": [
    {
     "data": {
      "text/plain": [
       "True"
      ]
     },
     "execution_count": 311,
     "metadata": {},
     "output_type": "execute_result"
    }
   ],
   "source": [
    "age_salary_scatter.get_ylabel() == 'Salary'"
   ]
  },
  {
   "cell_type": "code",
   "execution_count": 312,
   "metadata": {},
   "outputs": [
    {
     "data": {
      "text/plain": [
       "True"
      ]
     },
     "execution_count": 312,
     "metadata": {},
     "output_type": "execute_result"
    }
   ],
   "source": [
    "age_salary_scatter.get_xlabel() == 'Age'"
   ]
  },
  {
   "cell_type": "code",
   "execution_count": 319,
   "metadata": {},
   "outputs": [
    {
     "data": {
      "text/plain": [
       "True"
      ]
     },
     "execution_count": 319,
     "metadata": {},
     "output_type": "execute_result"
    }
   ],
   "source": [
    "age_salary_scatter.get_xlabel() == 'Age'"
   ]
  },
  {
   "cell_type": "code",
   "execution_count": 339,
   "metadata": {},
   "outputs": [
    {
     "name": "stdout",
     "output_type": "stream",
     "text": [
      "None\n"
     ]
    }
   ],
   "source": [
    "print(age_salary_scatter.get_alpha())"
   ]
  },
  {
   "cell_type": "code",
   "execution_count": 340,
   "metadata": {},
   "outputs": [
    {
     "name": "stdout",
     "output_type": "stream",
     "text": [
      "    adjustable = box\n",
      "    agg_filter = None\n",
      "    alpha = None\n",
      "    anchor = C\n",
      "    animated = False\n",
      "    aspect = auto\n",
      "    autoscale_on = True\n",
      "    autoscalex_on = True\n",
      "    autoscaley_on = True\n",
      "    axes_locator = None\n",
      "    axisbelow = line\n",
      "    children = [<matplotlib.collections.PathCollection object at ...\n",
      "    clip_box = None\n",
      "    clip_on = True\n",
      "    clip_path = None\n",
      "    contains = None\n",
      "    data_ratio = 484117.9500035001\n",
      "    data_ratio_log = 5.52645426019443\n",
      "    default_bbox_extra_artists = [<matplotlib.collections.PathCollection object at ...\n",
      "    facecolor = (1.0, 1.0, 1.0, 1.0)\n",
      "    fc = (1.0, 1.0, 1.0, 1.0)\n",
      "    figure = Figure(432x288)\n",
      "    frame_on = True\n",
      "    geometry = (1, 1, 1)\n",
      "    gid = None\n",
      "    gridspec = GridSpec(1, 1)\n",
      "    images = <a list of 0 AxesImage objects>\n",
      "    in_layout = True\n",
      "    label = \n",
      "    legend = None\n",
      "    legend_handles_labels = ([], [])\n",
      "    lines = <a list of 0 Line2D objects>\n",
      "    navigate = True\n",
      "    navigate_mode = None\n",
      "    path_effects = []\n",
      "    picker = None\n",
      "    position = Bbox(x0=0.125, y0=0.125, x1=0.9, y1=0.88)\n",
      "    rasterization_zorder = None\n",
      "    rasterized = None\n",
      "    renderer_cache = <matplotlib.backends.backend_agg.RendererAgg objec...\n",
      "    shared_x_axes = <matplotlib.cbook.Grouper object at 0x11cf7f6d8>\n",
      "    shared_y_axes = <matplotlib.cbook.Grouper object at 0x11cfd6080>\n",
      "    sketch_params = None\n",
      "    snap = None\n",
      "    subplotspec = <matplotlib.gridspec.SubplotSpec object at 0x12076...\n",
      "    title = Canuck players Age vs. Salary\n",
      "    transform = IdentityTransform()\n",
      "    transformed_clip_path_and_affine = (None, None)\n",
      "    url = None\n",
      "    visible = True\n",
      "    window_extent = TransformedBbox(     Bbox(x0=0.125, y0=0.125, x1=0...\n",
      "    xaxis = XAxis(54.000000,36.000000)\n",
      "    xaxis_transform = BlendedGenericTransform(     CompositeGenericTrans...\n",
      "    xbound = (20.342653301149195, 34.6573466988508)\n",
      "    xgridlines = <a list of 9 Line2D xgridline objects>\n",
      "    xlabel = Age\n",
      "    xlim = (20.342653301149195, 34.6573466988508)\n",
      "    xmajorticklabels = <a list of 9 Text xticklabel objects>\n",
      "    xminorticklabels = <a list of 0 Text xticklabel objects>\n",
      "    xscale = linear\n",
      "    xticklabels = <a list of 9 Text xticklabel objects>\n",
      "    xticklines = <a list of 18 Line2D xtickline objects>\n",
      "    xticks = [20. 22. 24. 26. 28. 30.]...\n",
      "    yaxis = YAxis(54.000000,36.000000)\n",
      "    yaxis_transform = BlendedGenericTransform(     BboxTransformTo(     ...\n",
      "    ybound = (384999.98868802993, 7315000.01131197)\n",
      "    ygridlines = <a list of 9 Line2D ygridline objects>\n",
      "    ylabel = Salary\n",
      "    ylim = (384999.98868802993, 7315000.01131197)\n",
      "    ymajorticklabels = <a list of 9 Text yticklabel objects>\n",
      "    yminorticklabels = <a list of 0 Text yticklabel objects>\n",
      "    yscale = linear\n",
      "    yticklabels = <a list of 9 Text yticklabel objects>\n",
      "    yticklines = <a list of 18 Line2D ytickline objects>\n",
      "    yticks = [      0. 1000000. 2000000. 3000000. 4000000. 5000...\n",
      "    zorder = 0\n"
     ]
    }
   ],
   "source": [
    "plt.getp(age_salary_scatter)"
   ]
  },
  {
   "cell_type": "code",
   "execution_count": null,
   "metadata": {},
   "outputs": [],
   "source": []
  }
 ],
 "metadata": {
  "kernelspec": {
   "display_name": "Python 3",
   "language": "python",
   "name": "python3"
  },
  "language_info": {
   "codemirror_mode": {
    "name": "ipython",
    "version": 3
   },
   "file_extension": ".py",
   "mimetype": "text/x-python",
   "name": "python",
   "nbconvert_exporter": "python",
   "pygments_lexer": "ipython3",
   "version": "3.7.3"
  }
 },
 "nbformat": 4,
 "nbformat_minor": 2
}
